{
 "cells": [
  {
   "cell_type": "code",
   "execution_count": 1,
   "metadata": {},
   "outputs": [],
   "source": [
    "import numpy as np\n",
    "import pandas as pd\n",
    "import matplotlib.pyplot as plt\n",
    "import seaborn as sns"
   ]
  },
  {
   "cell_type": "code",
   "execution_count": 4,
   "metadata": {},
   "outputs": [],
   "source": [
    "while True:\n",
    "    responce = input('Hello, please tell us which kind of machine learning method you need.\\\n",
    "    (R : regression, C: classifier)')\n",
    "    if responce.upper() == 'R':\n",
    "        task = 'Regression'\n",
    "        break\n",
    "    elif responce.upper() == 'C':\n",
    "        task = 'Classifier'\n",
    "        break"
   ]
  },
  {
   "cell_type": "code",
   "execution_count": 68,
   "metadata": {},
   "outputs": [],
   "source": [
    "file_name= input('what is the name of your csv file?\\\n",
    "                  make sure you have uploaded it')\n",
    "file_name = file_name + '.csv'\n",
    "df = pd.read_csv(file_name)"
   ]
  },
  {
   "cell_type": "code",
   "execution_count": 4,
   "metadata": {},
   "outputs": [
    {
     "name": "stdout",
     "output_type": "stream",
     "text": [
      "ok.you have chosen \"sales\" as independent variable\n"
     ]
    }
   ],
   "source": [
    "df.head()\n",
    "def var_choose():\n",
    "    global independ_var\n",
    "    while True:\n",
    "        independ_var= input('This is the first 5 rows of dataset\\\n",
    "                     your variables list are the columns names,which one do you want\\\n",
    "                      to consider as the independent variable?')\n",
    "        \n",
    "        if independ_var in list(df):\n",
    "            print(f'ok.you have chosen \"{independ_var}\" as independent variable')\n",
    "            break\n",
    "        else:\n",
    "            print('you did not choose a correct column name,please check it again')\n",
    "    \n",
    "var_choose();\n"
   ]
  },
  {
   "cell_type": "code",
   "execution_count": 5,
   "metadata": {},
   "outputs": [
    {
     "data": {
      "text/plain": [
       "'sales'"
      ]
     },
     "execution_count": 5,
     "metadata": {},
     "output_type": "execute_result"
    }
   ],
   "source": [
    "independ_var"
   ]
  },
  {
   "cell_type": "code",
   "execution_count": 9,
   "metadata": {},
   "outputs": [],
   "source": [
    "continue_index= len(df[independ_var].unique())\n",
    "'''\n",
    "Mehtod I used here for recognize categorical data is counting its unique values, \n",
    "If it is more than 10 we will check it again becouse it sounds countinus. Furthermore, it is not\n",
    "look like countinus if unique values is less than 6.\n",
    "'''\n",
    "if continue_index < 6 and task == 'Regression' :\n",
    "   ans_count= input('It seems that your independent variable is not Countinous!\\\n",
    "           Are you sure you want to continue? (Y:Yes, N:No,I want check again)')\n",
    "   if ans_count.upper() == 'Y':\n",
    "      pass\n",
    "   if ans_count.upper() == 'N':\n",
    "      var_choose()\n",
    "if continue_index > 10 and task == 'Classifier' :\n",
    "   ans_count= input('It seems that your independent variable is not Categorial!\\\n",
    "           Are you sure you want to continue? (Y:Yes, N:No,I want check again)')\n",
    "   if ans_count.upper() == 'Y':\n",
    "      pass\n",
    "   if ans_count.upper() == 'N':\n",
    "      var_choose()\n"
   ]
  },
  {
   "cell_type": "code",
   "execution_count": 10,
   "metadata": {},
   "outputs": [],
   "source": [
    "if df.isnull().values.any():\n",
    "    non_names= df.columns[df.isnull().any()].tolist()\n",
    "    print(f'These columns has Non-values: {non_names}')\n",
    "    print('please fill in them and return to app')\n",
    "#need to exit app here \n"
   ]
  },
  {
   "cell_type": "code",
   "execution_count": 72,
   "metadata": {},
   "outputs": [],
   "source": [
    "ds= df.drop([independ_var],axis=1)\n",
    "str_list = list(ds.select_dtypes(include=['object']).columns)\n",
    "if len(str_list) > 0:\n",
    "    print(f'These columns have str data type and need to create dummys:{str_list}')\n",
    "    create_dummy= input('Do you want we create it in app? (Y:yes ,N:no)')\n",
    "    if create_dummy.upper() == 'Y':\n",
    "      df_1=df.drop(str_list,axis=1)\n",
    "      df_2=pd.get_dummies(df[str_list],drop_first=True)\n",
    "      df= pd.concat([df_1,df_2], axis=1)\n",
    "    if create_dummy.upper() == 'N':\n",
    "      print('please convert string type data to dummys yourself and return to app')\n",
    "#need to exit app here\n",
    "\n"
   ]
  },
  {
   "cell_type": "code",
   "execution_count": 6,
   "metadata": {},
   "outputs": [],
   "source": [
    "#starting to ML \n",
    "X=df.drop([independ_var],axis=1)\n",
    "y=df[independ_var]\n"
   ]
  },
  {
   "cell_type": "code",
   "execution_count": 8,
   "metadata": {},
   "outputs": [],
   "source": [
    "'''\n",
    "Here instead of correlation value, I used t-student value to drop variablse which have not effective\n",
    "impact on our final Regression Model.According to the table critical value for trusting more than\n",
    "95% is about 1.85\n",
    "'''\n",
    "import statsmodels.api as sm\n",
    "model = sm.OLS(y, X).fit()\n",
    "datasery = model.tvalues.where(abs(model.tvalues) < 1.85).dropna()\n",
    "datasery = list(datasery.keys())\n",
    "X=X.drop(datasery,axis=1)"
   ]
  },
  {
   "cell_type": "code",
   "execution_count": 9,
   "metadata": {},
   "outputs": [],
   "source": [
    "from sklearn.model_selection import train_test_split\n",
    "X_train, X_test, y_train, y_test = train_test_split(X,y,test_size=0.3,random_state=101)"
   ]
  },
  {
   "cell_type": "code",
   "execution_count": 10,
   "metadata": {},
   "outputs": [],
   "source": [
    "from sklearn.preprocessing import StandardScaler\n",
    "scaler = StandardScaler()\n",
    "scaler.fit(X_train)\n",
    "X_train = scaler.transform(X_train)\n",
    "X_test= scaler.transform(X_test)"
   ]
  },
  {
   "cell_type": "code",
   "execution_count": 11,
   "metadata": {},
   "outputs": [
    {
     "data": {
      "text/html": [
       "<style>#sk-container-id-1 {color: black;background-color: white;}#sk-container-id-1 pre{padding: 0;}#sk-container-id-1 div.sk-toggleable {background-color: white;}#sk-container-id-1 label.sk-toggleable__label {cursor: pointer;display: block;width: 100%;margin-bottom: 0;padding: 0.3em;box-sizing: border-box;text-align: center;}#sk-container-id-1 label.sk-toggleable__label-arrow:before {content: \"▸\";float: left;margin-right: 0.25em;color: #696969;}#sk-container-id-1 label.sk-toggleable__label-arrow:hover:before {color: black;}#sk-container-id-1 div.sk-estimator:hover label.sk-toggleable__label-arrow:before {color: black;}#sk-container-id-1 div.sk-toggleable__content {max-height: 0;max-width: 0;overflow: hidden;text-align: left;background-color: #f0f8ff;}#sk-container-id-1 div.sk-toggleable__content pre {margin: 0.2em;color: black;border-radius: 0.25em;background-color: #f0f8ff;}#sk-container-id-1 input.sk-toggleable__control:checked~div.sk-toggleable__content {max-height: 200px;max-width: 100%;overflow: auto;}#sk-container-id-1 input.sk-toggleable__control:checked~label.sk-toggleable__label-arrow:before {content: \"▾\";}#sk-container-id-1 div.sk-estimator input.sk-toggleable__control:checked~label.sk-toggleable__label {background-color: #d4ebff;}#sk-container-id-1 div.sk-label input.sk-toggleable__control:checked~label.sk-toggleable__label {background-color: #d4ebff;}#sk-container-id-1 input.sk-hidden--visually {border: 0;clip: rect(1px 1px 1px 1px);clip: rect(1px, 1px, 1px, 1px);height: 1px;margin: -1px;overflow: hidden;padding: 0;position: absolute;width: 1px;}#sk-container-id-1 div.sk-estimator {font-family: monospace;background-color: #f0f8ff;border: 1px dotted black;border-radius: 0.25em;box-sizing: border-box;margin-bottom: 0.5em;}#sk-container-id-1 div.sk-estimator:hover {background-color: #d4ebff;}#sk-container-id-1 div.sk-parallel-item::after {content: \"\";width: 100%;border-bottom: 1px solid gray;flex-grow: 1;}#sk-container-id-1 div.sk-label:hover label.sk-toggleable__label {background-color: #d4ebff;}#sk-container-id-1 div.sk-serial::before {content: \"\";position: absolute;border-left: 1px solid gray;box-sizing: border-box;top: 0;bottom: 0;left: 50%;z-index: 0;}#sk-container-id-1 div.sk-serial {display: flex;flex-direction: column;align-items: center;background-color: white;padding-right: 0.2em;padding-left: 0.2em;position: relative;}#sk-container-id-1 div.sk-item {position: relative;z-index: 1;}#sk-container-id-1 div.sk-parallel {display: flex;align-items: stretch;justify-content: center;background-color: white;position: relative;}#sk-container-id-1 div.sk-item::before, #sk-container-id-1 div.sk-parallel-item::before {content: \"\";position: absolute;border-left: 1px solid gray;box-sizing: border-box;top: 0;bottom: 0;left: 50%;z-index: -1;}#sk-container-id-1 div.sk-parallel-item {display: flex;flex-direction: column;z-index: 1;position: relative;background-color: white;}#sk-container-id-1 div.sk-parallel-item:first-child::after {align-self: flex-end;width: 50%;}#sk-container-id-1 div.sk-parallel-item:last-child::after {align-self: flex-start;width: 50%;}#sk-container-id-1 div.sk-parallel-item:only-child::after {width: 0;}#sk-container-id-1 div.sk-dashed-wrapped {border: 1px dashed gray;margin: 0 0.4em 0.5em 0.4em;box-sizing: border-box;padding-bottom: 0.4em;background-color: white;}#sk-container-id-1 div.sk-label label {font-family: monospace;font-weight: bold;display: inline-block;line-height: 1.2em;}#sk-container-id-1 div.sk-label-container {text-align: center;}#sk-container-id-1 div.sk-container {/* jupyter's `normalize.less` sets `[hidden] { display: none; }` but bootstrap.min.css set `[hidden] { display: none !important; }` so we also need the `!important` here to be able to override the default hidden behavior on the sphinx rendered scikit-learn.org. See: https://github.com/scikit-learn/scikit-learn/issues/21755 */display: inline-block !important;position: relative;}#sk-container-id-1 div.sk-text-repr-fallback {display: none;}</style><div id=\"sk-container-id-1\" class=\"sk-top-container\"><div class=\"sk-text-repr-fallback\"><pre>LinearRegression()</pre><b>In a Jupyter environment, please rerun this cell to show the HTML representation or trust the notebook. <br />On GitHub, the HTML representation is unable to render, please try loading this page with nbviewer.org.</b></div><div class=\"sk-container\" hidden><div class=\"sk-item\"><div class=\"sk-estimator sk-toggleable\"><input class=\"sk-toggleable__control sk-hidden--visually\" id=\"sk-estimator-id-1\" type=\"checkbox\" checked><label for=\"sk-estimator-id-1\" class=\"sk-toggleable__label sk-toggleable__label-arrow\">LinearRegression</label><div class=\"sk-toggleable__content\"><pre>LinearRegression()</pre></div></div></div></div></div>"
      ],
      "text/plain": [
       "LinearRegression()"
      ]
     },
     "execution_count": 11,
     "metadata": {},
     "output_type": "execute_result"
    }
   ],
   "source": [
    "from sklearn.linear_model import LinearRegression\n",
    "model_lir = LinearRegression()\n",
    "model_lir.fit(X_train,y_train)"
   ]
  },
  {
   "cell_type": "code",
   "execution_count": 12,
   "metadata": {},
   "outputs": [
    {
     "name": "stdout",
     "output_type": "stream",
     "text": [
      "These are report for LiR(Linear Regression Model):\n",
      "MAE = 1.2137457736144812\n",
      "RMSE = 1.5161519375993882 (lower is better)\n",
      "Score = 0.9185780903322445 (higher is better)\n",
      "Tolerance = 0.10812279818858178\n"
     ]
    }
   ],
   "source": [
    "#LiR Model\n",
    "from sklearn.metrics import mean_absolute_error,mean_squared_error,r2_score\n",
    "test_predict = model_lir.predict(X_test)\n",
    "MAE_LiR= mean_absolute_error(y_true=y_test,y_pred=test_predict)\n",
    "RMSE_LiR = np.sqrt(mean_squared_error(y_true=y_test,y_pred=test_predict))\n",
    "tolerance_LiR = RMSE_LiR/y.mean()\n",
    "score_modeL_LiR = r2_score(y_true=y_test,y_pred=test_predict)\n",
    "print('These are report for LiR(Linear Regression Model):')\n",
    "print(f'MAE = {MAE_LiR}')\n",
    "print(f'RMSE = {RMSE_LiR} (lower is better)')\n",
    "print(f'Score = {score_modeL_LiR} (higher is better)')\n",
    "print(f'Tolerance = {tolerance_LiR}')"
   ]
  },
  {
   "cell_type": "code",
   "execution_count": 13,
   "metadata": {},
   "outputs": [
    {
     "name": "stdout",
     "output_type": "stream",
     "text": [
      "These are report for Lasso(Linear regression with L1 regularization Model):\n",
      "Alpha = 0.39636306046337183\n",
      "MAE = 1.2873601365766174\n",
      "RMSE = 1.6945833070327798 (lower is better)\n",
      "Score= 0.8982857780304856 (higher is better)\n",
      "Tolerance = 0.12084744567892884\n"
     ]
    }
   ],
   "source": [
    "#Lasso Model\n",
    "from sklearn.linear_model import LassoCV\n",
    "lasso_model_cv = LassoCV(eps=0.1,n_alphas=100,cv=10)\n",
    "lasso_model_cv.fit(X_train,y_train)\n",
    "lasso_test_predict = lasso_model_cv.predict(X_test)\n",
    "MAE_lasso = mean_absolute_error(y_true=y_test,y_pred=lasso_test_predict)\n",
    "RMSE_lasso = np.sqrt(mean_squared_error(y_true=y_test,y_pred=lasso_test_predict))\n",
    "score_model_lasso = lasso_model_cv.score(X_test,y_test)\n",
    "tolerance_lasso = RMSE_lasso/y.mean()\n",
    "print('These are report for Lasso(Linear regression with L1 regularization Model):')\n",
    "print(f'Alpha = {lasso_model_cv.alpha_}')\n",
    "print(f'MAE = {MAE_lasso}')\n",
    "print(f'RMSE = {RMSE_lasso} (lower is better)')\n",
    "print(f'Score= {lasso_model_cv.score(X_test,y_test)} (higher is better)')\n",
    "print(f'Tolerance = {tolerance_lasso}')"
   ]
  },
  {
   "cell_type": "code",
   "execution_count": 14,
   "metadata": {},
   "outputs": [
    {
     "name": "stdout",
     "output_type": "stream",
     "text": [
      "These are report for Ridge CV(Linear regression with L2 regularization Model):\n",
      "(We have used cross validation to find best alpha)\n",
      "Alpha = 0.5\n",
      "MAE = 1.2153192836606341\n",
      "RMSE = 1.5194105608049513 (lower is better)\n",
      "Score = 0.9182277185209243 (higher is better)\n",
      "Tolerance = 0.10835518351256561\n"
     ]
    }
   ],
   "source": [
    "#Ridg CV Model\n",
    "from sklearn.linear_model import RidgeCV\n",
    "ridge_model_CV = RidgeCV(alphas=(0.1,0.5,1,5,10),scoring='neg_mean_squared_error')\n",
    "ridge_model_CV.fit(X_train,y_train)\n",
    "ridge_model_CV.alpha_\n",
    "test_predict = ridge_model_CV.predict(X_test)\n",
    "MAE_ridgcv = mean_absolute_error(y_true=y_test,y_pred=test_predict)\n",
    "RMSE_ridgcv = np.sqrt(mean_squared_error(y_true=y_test,y_pred=test_predict))\n",
    "tolerance_ridgcv = RMSE_ridgcv/y.mean()\n",
    "score_model_ridgcv = r2_score(y_true=y_test,y_pred=test_predict)\n",
    "print('These are report for Ridge CV(Linear regression with L2 regularization Model):')\n",
    "print('(We have used cross validation to find best alpha)')\n",
    "print(f'Alpha = {ridge_model_CV.alpha_}')\n",
    "print(f'MAE = {MAE_ridgcv}')\n",
    "print(f'RMSE = {RMSE_ridgcv} (lower is better)')\n",
    "print(f'Score = {score_model_ridgcv} (higher is better)')\n",
    "print(f'Tolerance = {tolerance_ridgcv}')\n"
   ]
  },
  {
   "cell_type": "code",
   "execution_count": 15,
   "metadata": {},
   "outputs": [
    {
     "name": "stdout",
     "output_type": "stream",
     "text": [
      "These are report for Elastic(Linear regression with L2&L1 regularization Model):\n",
      "Alpha = 0.0915650077992293\n",
      "Ratio = 1.0\n",
      "MAE = 1.2219770611672518\n",
      "RMSE = 1.5422275252366315 (lower is better)\n",
      "Score= 0.9157533319458527 (higher is better)\n",
      "Tolerance = 0.10998235159469648\n"
     ]
    }
   ],
   "source": [
    "#Elastic Net Model\n",
    "from sklearn.linear_model import ElasticNetCV\n",
    "elastic_model_cv = ElasticNetCV(l1_ratio=[0.001,0.005,0.1,0.5,0.7,0.9,0.95,0.99,1],tol=0.0001,max_iter=1_000_000)\n",
    "elastic_model_cv.fit(X_train,y_train)\n",
    "elastic_test_predict = elastic_model_cv.predict(X_test)\n",
    "MAE_elastic = mean_absolute_error(y_test,elastic_test_predict)\n",
    "RMSE_elastic = np.sqrt(mean_squared_error(y_test,elastic_test_predict))\n",
    "score_model_elastic= elastic_model_cv.score(X_test,y_test)\n",
    "tolerance_elastic = RMSE_elastic/y.mean()\n",
    "print('These are report for Elastic(Linear regression with L2&L1 regularization Model):')\n",
    "print(f'Alpha = {(elastic_model_cv.alpha_)}')\n",
    "print(f'Ratio = {(elastic_model_cv.l1_ratio_)}')\n",
    "print(f'MAE = {(MAE_elastic)}')\n",
    "print(f'RMSE = {(RMSE_elastic)} (lower is better)')\n",
    "print(f'Score= {elastic_model_cv.score(X_test,y_test)} (higher is better)')\n",
    "print(f'Tolerance = {(tolerance_elastic)}')\n"
   ]
  },
  {
   "cell_type": "code",
   "execution_count": 16,
   "metadata": {},
   "outputs": [
    {
     "name": "stdout",
     "output_type": "stream",
     "text": [
      "These are report for SVM(Support vector machine Model):\n",
      "Best Hyperparameters are: SVR(C=10, degree=2, gamma='auto')\n",
      "MAE = 0.525948125192701\n",
      "RMSE = 0.7753282521180318\n",
      "Score = 0.9787074805566361\n"
     ]
    }
   ],
   "source": [
    "#SVM Model\n",
    "from sklearn.model_selection import GridSearchCV\n",
    "from sklearn.svm import SVR,LinearSVR\n",
    "base_svr_model = SVR()\n",
    "param_grid = {'C': [0.001,0.01,0.1,0.5,1,5,10,100],\n",
    "              'kernel' : ['linear', 'poly', 'rbf'],\n",
    "              'degree' : [2,3,4],\n",
    "              'epsilon' : [0,0.01,0.1,0.5,1,2],\n",
    "              'gamma' : ['scale', 'auto']}\n",
    "grid_SVR = GridSearchCV(estimator=base_svr_model,param_grid=param_grid)\n",
    "grid_SVR.fit(X_train,y_train)\n",
    "grid_SVR_pred = grid_SVR.predict(X_test)\n",
    "MAE_svm = mean_absolute_error(y_true=y_test, y_pred=grid_SVR_pred)\n",
    "RMSE_svm = np.sqrt(mean_squared_error(y_true=y_test, y_pred=grid_SVR_pred))\n",
    "score_svm = r2_score(y_true=y_test, y_pred=grid_SVR_pred)\n",
    "print('These are report for SVM(Support vector machine Model):')\n",
    "print(f'Best Hyperparameters are: {grid_SVR.best_estimator_}')\n",
    "print(f\"MAE = {MAE_svm}\\nRMSE = {RMSE_svm}\\nScore = {score_svm}\")\n"
   ]
  },
  {
   "cell_type": "code",
   "execution_count": 17,
   "metadata": {},
   "outputs": [
    {
     "name": "stdout",
     "output_type": "stream",
     "text": [
      "Based on our calculation, the best model is SVM\n",
      "And Its R2-Score is 0.9787074805566361\n"
     ]
    }
   ],
   "source": [
    "score_list_regres= {\"Lir\": score_modeL_LiR,'Ridgecv': score_model_ridgcv,\\\n",
    "             'Lasso': score_model_lasso,'Elastic': score_model_elastic,'SVM': score_svm}\n",
    "print(f'Based on our calculation, the best model is {max(score_list_regres)}')  \n",
    "print(f'And Its R2-Score is {max(score_list_regres.values())}')"
   ]
  },
  {
   "cell_type": "code",
   "execution_count": 22,
   "metadata": {},
   "outputs": [],
   "source": [
    "reg_models={'SVM': grid_SVR,'Elastic': elastic_model_cv,'Lasso':lasso_model_cv,\\\n",
    "    'Ridgecv':ridge_model_CV,'Lir':model_lir}\n",
    "job_key =  max(score_list_regres)  \n",
    "selected_model= reg_models.get(job_key)\n"
   ]
  },
  {
   "cell_type": "code",
   "execution_count": 26,
   "metadata": {},
   "outputs": [
    {
     "data": {
      "text/plain": [
       "['Regression_ml.joblib']"
      ]
     },
     "execution_count": 26,
     "metadata": {},
     "output_type": "execute_result"
    }
   ],
   "source": [
    "selected_model.fit(X,y)\n",
    "from joblib import dump\n",
    "dump(selected_model,'Regression_predictor.joblib')\n",
    "print('your final prediction final is ready as ((Regression_predictor)) in directory')"
   ]
  },
  {
   "cell_type": "code",
   "execution_count": 73,
   "metadata": {},
   "outputs": [
    {
     "name": "stdout",
     "output_type": "stream",
     "text": [
      "Models best hyperparameters are:\n",
      "{'C': 0.1, 'penalty': 'l1'}\n",
      "Result for Logistic regression Model with grid search for reularization and colorfull confusion Matrix:\n",
      "<sklearn.metrics._plot.confusion_matrix.ConfusionMatrixDisplay object at 0x7f12dff64b20>\n",
      "Summery of classification report:\n",
      "              precision    recall  f1-score   support\n",
      "\n",
      "           0       1.00      1.00      1.00        65\n",
      "           1       1.00      1.00      1.00        55\n",
      "\n",
      "    accuracy                           1.00       120\n",
      "   macro avg       1.00      1.00      1.00       120\n",
      "weighted avg       1.00      1.00      1.00       120\n",
      "\n"
     ]
    },
    {
     "data": {
      "image/png": "[encoded data removed]",
      "text/plain": [
       "<Figure size 640x480 with 2 Axes>"
      ]
     },
     "metadata": {},
     "output_type": "display_data"
    }
   ],
   "source": [
    "#LoR Model\n",
    "from sklearn.linear_model import LogisticRegression\n",
    "Log_model_cv = LogisticRegression(solver='saga',multi_class='auto', max_iter=5000)\n",
    "penalty = ['l1','l2']\n",
    "C = np.linspace(0.1,4,10)\n",
    "from sklearn.model_selection import GridSearchCV\n",
    "grid_model_cv = GridSearchCV(Log_model_cv,param_grid={'C':C,'penalty':penalty})\n",
    "grid_model_cv.fit(X_train,y_train)\n",
    "grid_y_pred = grid_model_cv.predict(X_test)\n",
    "from sklearn.metrics import classification_report, confusion_matrix,accuracy_score\n",
    "confusion_matrix(y_true = y_test, y_pred = grid_y_pred)\n",
    "from sklearn.metrics import ConfusionMatrixDisplay\n",
    "print(f'Models best hyperparameters are:\\n{grid_model_cv.best_params_}')\n",
    "print('Result for Logistic regression Model with grid search for reularization and colorfull confusion Matrix:')\n",
    "grid_model_cv_Confusion_matrix = ConfusionMatrixDisplay.from_estimator(grid_model_cv,X_test,y_test)\n",
    "print('Summery of classification report:')\n",
    "print(classification_report(y_test,grid_y_pred))"
   ]
  },
  {
   "cell_type": "code",
   "execution_count": 66,
   "metadata": {},
   "outputs": [
    {
     "name": "stdout",
     "output_type": "stream",
     "text": [
      "Models best hyperparameters are:\n",
      "{'knn__n_neighbors': 1}\n",
      "Result for KNN with gridsearch Model and colorfull confusion Matrix:\n",
      "Summery of classification report:\n",
      "              precision    recall  f1-score   support\n",
      "\n",
      "           0       1.00      1.00      1.00        65\n",
      "           1       1.00      1.00      1.00        55\n",
      "\n",
      "    accuracy                           1.00       120\n",
      "   macro avg       1.00      1.00      1.00       120\n",
      "weighted avg       1.00      1.00      1.00       120\n",
      "\n"
     ]
    },
    {
     "data": {
      "image/png": "[encoded data removed]",
      "text/plain": [
       "<Figure size 640x480 with 2 Axes>"
      ]
     },
     "metadata": {},
     "output_type": "display_data"
    }
   ],
   "source": [
    "#KNN Model\n",
    "from sklearn.neighbors import KNeighborsClassifier\n",
    "knn = KNeighborsClassifier()\n",
    "operations = [('scaler',scaler),('knn',knn)]\n",
    "from sklearn.pipeline import Pipeline\n",
    "pipe = Pipeline(operations)\n",
    "k_values = list(range(1,30))\n",
    "from sklearn.model_selection import GridSearchCV\n",
    "param_grid_knn = {'knn__n_neighbors' : k_values}\n",
    "knn_model_cv = GridSearchCV(estimator=pipe,param_grid=param_grid_knn,scoring='accuracy')\n",
    "knn_model_cv.fit(X_train,y_train)\n",
    "y_pred_knncv = knn_model_cv.predict(X_test)\n",
    "from sklearn.metrics import classification_report, confusion_matrix,accuracy_score\n",
    "confusion_matrix(y_true = y_test, y_pred = y_pred_knncv)\n",
    "from sklearn.metrics import ConfusionMatrixDisplay\n",
    "print(f'Models best hyperparameters are:\\n{knn_model_cv.best_params_}')\n",
    "print('Result for KNN with gridsearch Model and colorfull confusion Matrix:')\n",
    "confusion_matrix_plot = ConfusionMatrixDisplay.from_estimator(knn_model_cv,X_test,y_test)\n",
    "print('Summery of classification report:')\n",
    "print(classification_report(y_test,y_pred_knncv))"
   ]
  },
  {
   "cell_type": "code",
   "execution_count": 65,
   "metadata": {},
   "outputs": [
    {
     "name": "stdout",
     "output_type": "stream",
     "text": [
      "Models best hyperparameters are:\n",
      "{'C': 0.005, 'kernel': 'linear'}\n",
      "Result for SVC Model with grid search for best hyperparameters and colorfull confusion Matrix:\n",
      "              precision    recall  f1-score   support\n",
      "\n",
      "           0       1.00      1.00      1.00        65\n",
      "           1       1.00      1.00      1.00        55\n",
      "\n",
      "    accuracy                           1.00       120\n",
      "   macro avg       1.00      1.00      1.00       120\n",
      "weighted avg       1.00      1.00      1.00       120\n",
      "\n"
     ]
    },
    {
     "data": {
      "image/png": "[encoded data removed]",
      "text/plain": [
       "<Figure size 640x480 with 2 Axes>"
      ]
     },
     "metadata": {},
     "output_type": "display_data"
    }
   ],
   "source": [
    "#SVC Model\n",
    "from sklearn.svm import SVC\n",
    "svm = SVC()\n",
    "param_grid = {'C': [0.001,0.005,0.01,0.05,1,5,10,50,100,500,1000,5000],'kernel':['linear','rbf']}\n",
    "grid_svc = GridSearchCV(svm,param_grid=param_grid)\n",
    "grid_svc.fit(X_train,y_train)\n",
    "y_pred_svccv = grid_svc.predict(X_test)\n",
    "from sklearn.metrics import classification_report\n",
    "from sklearn.metrics import ConfusionMatrixDisplay\n",
    "print(f'Models best hyperparameters are:\\n{grid_svc.best_params_}')\n",
    "print('Result for SVC Model with grid search for best hyperparameters and colorfull confusion Matrix:')\n",
    "svc_model_cv_Confusion_matrix = ConfusionMatrixDisplay.from_estimator(grid_svc,X_test,y_test)\n",
    "print(classification_report(y_true= y_test,y_pred = y_pred_svccv))"
   ]
  },
  {
   "cell_type": "code",
   "execution_count": 63,
   "metadata": {},
   "outputs": [
    {
     "name": "stdout",
     "output_type": "stream",
     "text": [
      "Based on our calculation, the best model is SVC\n",
      "And Its Accuracy is 1.0\n"
     ]
    }
   ],
   "source": [
    "score_knn= accuracy_score(y_true = y_test, y_pred = y_pred_knncv)\n",
    "score_lor = accuracy_score(y_true = y_test, y_pred = grid_y_pred)\n",
    "score_svc = accuracy_score(y_true = y_test, y_pred = y_pred_svccv)\n",
    "score_list_classifier = {'KNN': score_knn, 'LoR':score_lor,'SVC':score_svc}\n",
    "print(f'Based on our calculation, the best model is {max(score_list_classifier)}')  \n",
    "print(f'And Its Accuracy is {max(score_list_classifier.values())}')"
   ]
  },
  {
   "cell_type": "code",
   "execution_count": null,
   "metadata": {},
   "outputs": [],
   "source": [
    "final_responce =input('If you are agree with this rate,We can deploy this model(Y:yes ,N:no)')\n",
    "reg_models={'KNN': knn_model_cv, 'LoR':grid_model_cv,'SVC':grid_svc}\n",
    "job_key =  max(score_list_classifier) \n",
    "selected_model= reg_models.get(job_key)\n",
    "selected_model.fit(X,y)\n",
    "from joblib import dump\n",
    "dump(selected_model,'Classifier_predictor.joblib')\n",
    "print('your final prediction file is ready as ((Classifier_predictor)) in directory')\n",
    "print('We hope that see you next time.')"
   ]
  }
 ],
 "metadata": {
  "kernelspec": {
   "display_name": "Python 3",
   "language": "python",
   "name": "python3"
  },
  "language_info": {
   "codemirror_mode": {
    "name": "ipython",
    "version": 3
   },
   "file_extension": ".py",
   "mimetype": "text/x-python",
   "name": "python",
   "nbconvert_exporter": "python",
   "pygments_lexer": "ipython3",
   "version": "3.10.6"
  },
  "orig_nbformat": 4,
  "vscode": {
   "interpreter": {
    "hash": "916dbcbb3f70747c44a77c7bcd40155683ae19c65e1c03b4aa3499c5328201f1"
   }
  }
 },
 "nbformat": 4,
 "nbformat_minor": 2
}
